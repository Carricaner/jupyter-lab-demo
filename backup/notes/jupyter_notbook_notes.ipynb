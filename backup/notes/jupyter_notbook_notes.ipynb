{
 "cells": [
  {
   "cell_type": "markdown",
   "id": "d3532038-e761-45a2-8f21-35edfe1769ed",
   "metadata": {},
   "source": [
    "## Tips\n",
    "- Edit mode (with <span style=\"color:green\">green border</span>); Command mode (with <span style=\"color:blue\">blue border</span>)\n",
    "- \n",
    "\n",
    "## Shortcuts\n",
    "| Shortcut | Description | Notes |\n",
    "| --- | --- | --- |\n",
    "| `y` | Change cell to code | |\n",
    "| `m` | Change cell to markdown | |\n",
    "| `x` | Cut the selected cell |\n",
    "| `c` | Copy the selected cell |\n",
    "| `p` | Paste a cell |\n",
    "| `a` | Insert a cell above the selected cell | |\n",
    "| `b` | Insert a cell below the selected cell | |\n",
    "| `d d` | Delete the selected cell(s) | |\n",
    "| `z` | Undo cell deletion |\n",
    "| `⌘ + ↵` | Run selected cells | |\n",
    "| `⇧ + ↵` | Run cell and select below | |\n",
    "| `⌥ + ↵` | Run cell and insert a cell below | |\n",
    "| `⌘ + /` | Comment |\n",
    "| `⌘ + d` | Delete whole row |\n",
    "| `⌘ + ⇧ + c` | Open Command Palette |\n",
    "| `⇧ + ⇥` | Tooltip | in edit mode |\n",
    "\n",
    "\n",
    "## References\n",
    "- [Jupyter Notebook tips and shortcuts](https://digitalhumanities.hkust.edu.hk/tutorials/jupyter-notebook-tips-and-shortcuts/)\n",
    "- [Mac Keyboard Symbols](https://gist.github.com/jlyonsmith/6992156f18c423fd1c5af068aa311fb5)"
   ]
  },
  {
   "cell_type": "code",
   "execution_count": null,
   "id": "2b3064e0-b84a-4fdc-983e-68e76f21eeff",
   "metadata": {},
   "outputs": [],
   "source": [
    "print(\"Hello\")"
   ]
  },
  {
   "cell_type": "code",
   "execution_count": null,
   "id": "112fd44e-fd78-436e-9a1e-ae5be9c7fbb9",
   "metadata": {},
   "outputs": [],
   "source": [
    "print(\"Hello\")"
   ]
  },
  {
   "cell_type": "code",
   "execution_count": null,
   "id": "e8bb6cd0-a9ad-40fb-8be1-b79609aa3150",
   "metadata": {},
   "outputs": [],
   "source": [
    "print(\"Hello\")"
   ]
  }
 ],
 "metadata": {
  "kernelspec": {
   "display_name": "Python 3 (ipykernel)",
   "language": "python",
   "name": "python3"
  },
  "language_info": {
   "codemirror_mode": {
    "name": "ipython",
    "version": 3
   },
   "file_extension": ".py",
   "mimetype": "text/x-python",
   "name": "python",
   "nbconvert_exporter": "python",
   "pygments_lexer": "ipython3",
   "version": "3.11.10"
  }
 },
 "nbformat": 4,
 "nbformat_minor": 5
}
