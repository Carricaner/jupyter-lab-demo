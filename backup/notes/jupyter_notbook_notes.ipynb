{
 "cells": [
  {
   "cell_type": "markdown",
   "metadata": {},
   "source": [
    "## Tips\n",
    "- Edit mode (with <span style=\"color:green\">green border</span>); Command mode (with <span style=\"color:blue\">blue border</span>) "
   ]
  },
  {
   "cell_type": "markdown",
   "metadata": {},
   "source": [
    "## Shortcuts\n",
    "| Shortcut | Description | Notes |\n",
    "| --- | --- | --- |\n",
    "| `y` | Change cell to code | |\n",
    "| `m` | Change cell to markdown | |\n",
    "| `x` | Cut the selected cell |\n",
    "| `c` | Copy the selected cell |\n",
    "| `p` | Paste a cell |\n",
    "| `a` | Insert a cell above the selected cell | |\n",
    "| `b` | Insert a cell below the selected cell | |\n",
    "| `d d` | Delete the selected cell(s) | |\n",
    "| `0 0` | restart the kernel | \n",
    "| `z` | Undo cell deletion |\n",
    "| `⌘ + ↵` | Run selected cells | |\n",
    "| `⇧ + ↵` | Run cell and select below | |\n",
    "| `⌥ + ↵` | Run cell and insert a cell below | |\n",
    "| `⌘ + /` | Comment |\n",
    "| `⌘ + d` | Delete whole row |\n",
    "| `⌘ + ⇧ + c` | Open Command Palette |\n",
    "| `⇧ + ⇥` | Tooltip | in edit mode |\n"
   ]
  },
  {
   "cell_type": "markdown",
   "metadata": {},
   "source": [
    "## References\n",
    "- [Jupyter Notebook tips and shortcuts](https://digitalhumanities.hkust.edu.hk/tutorials/jupyter-notebook-tips-and-shortcuts/)\n",
    "- [Mac Keyboard Symbols](https://gist.github.com/jlyonsmith/6992156f18c423fd1c5af068aa311fb5)\n",
    "- [New features in Notebook 7](https://jupyter-notebook.readthedocs.io/en/latest/notebook_7_features.html)\n",
    "- [How to Handle Secrets in Jupyter Notebooks](https://blog.gitguardian.com/how-to-handle-secrets-in-jupyter-notebooks/)\n",
    "- [import a function from another .ipynb file](https://stackoverflow.com/questions/44116194/import-a-function-from-another-ipynb-file)"
   ]
  },
  {
   "cell_type": "code",
   "execution_count": null,
   "metadata": {},
   "outputs": [],
   "source": []
  }
 ],
 "metadata": {
  "kernelspec": {
   "display_name": "Python 3",
   "language": "python",
   "name": "python3"
  },
  "language_info": {
   "codemirror_mode": {
    "name": "ipython",
    "version": 3
   },
   "file_extension": ".py",
   "mimetype": "text/x-python",
   "name": "python",
   "nbconvert_exporter": "python",
   "pygments_lexer": "ipython3",
   "version": "3.8.5"
  }
 },
 "nbformat": 4,
 "nbformat_minor": 5
}
