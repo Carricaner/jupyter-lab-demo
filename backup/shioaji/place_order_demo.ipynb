{
 "cells": [
  {
   "cell_type": "code",
   "execution_count": 32,
   "metadata": {},
   "outputs": [
    {
     "name": "stdin",
     "output_type": "stream",
     "text": [
      "Enter your shioaji api key here: ············································\n",
      "Enter your shioaji secret key here: ············································\n"
     ]
    },
    {
     "name": "stdout",
     "output_type": "stream",
     "text": [
      "Response Code: 0 | Event Code: 0 | Info: host '210.59.255.161:80', IP 210.59.255.161:80 (host 1 of 1) (host connection attempt 1 of 1) (total connection attempt 1 of 1) | Event: Session up\n"
     ]
    }
   ],
   "source": [
    "# imports\n",
    "import shioaji as sj\n",
    "import getpass\n",
    "\n",
    "# settings\n",
    "enable_simulation = True\n",
    "shioaji_api_key = getpass.getpass(prompt='Enter your shioaji api key here:')\n",
    "shioaji_secret_key = getpass.getpass(prompt='Enter your shioaji secret key here:')\n",
    "\n",
    "# init\n",
    "api = sj.Shioaji(simulation=enable_simulation)\n",
    "api.logout()\n",
    "shioaji_accounts = api.login(\n",
    "    api_key=shioaji_api_key,\n",
    "    secret_key=shioaji_secret_key\n",
    ")"
   ]
  },
  {
   "cell_type": "code",
   "execution_count": 33,
   "metadata": {},
   "outputs": [
    {
     "data": {
      "text/plain": [
       "[FutureAccount(person_id='F129030211', broker_id='F002000', account_id='1775288', signed=True, username='李竹弘'),\n",
       " Account(account_type=<AccountType.H: 'H'>, person_id='F129030211', broker_id='9A95', account_id='01583553', username='李竹弘'),\n",
       " StockAccount(person_id='F129030211', broker_id='9A95', account_id='2016697', signed=True, username='李竹弘')]"
      ]
     },
     "execution_count": 33,
     "metadata": {},
     "output_type": "execute_result"
    }
   ],
   "source": [
    "shioaji_accounts"
   ]
  },
  {
   "cell_type": "code",
   "execution_count": null,
   "metadata": {},
   "outputs": [],
   "source": []
  }
 ],
 "metadata": {
  "kernelspec": {
   "display_name": "Python 3",
   "language": "python",
   "name": "python3"
  },
  "language_info": {
   "codemirror_mode": {
    "name": "ipython",
    "version": 3
   },
   "file_extension": ".py",
   "mimetype": "text/x-python",
   "name": "python",
   "nbconvert_exporter": "python",
   "pygments_lexer": "ipython3",
   "version": "3.8.5"
  }
 },
 "nbformat": 4,
 "nbformat_minor": 4
}
