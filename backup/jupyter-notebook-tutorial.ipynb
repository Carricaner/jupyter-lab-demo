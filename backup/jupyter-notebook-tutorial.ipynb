{
 "cells": [
  {
   "cell_type": "markdown",
   "id": "abe6591d-02e4-45ee-996f-a4626424f1f4",
   "metadata": {},
   "source": [
    "## Shortcuts\n",
    "\n",
    "### Common\n",
    "- Use arrow keys (`←`, `↑`, `→`, `↓`) to navigate between cells.\n",
    "- Press `Enter` to change the cell into editor mode and press `Esc` to navigation mode.\n",
    "- Press `a` to add a cell above the current cell.\n",
    "- Press `b` to add a cell below the current cell.\n",
    "- Press `c` to copy the cell.\n",
    "- Press `p` to paste the copied cell.\n",
    "- Press `x` to cut the current cell.\n",
    "- Press `d` twice to delete the current cell.\n",
    "- Press `z` to undo.\n",
    "- Press `z + shift` to redo.\n",
    "\n",
    "### Coding\n",
    "- Press `y` to enter command mode.\n",
    "- Press `m` to enter Markdown mode.\n",
    "- Press `0` twice to restart the kernel."
   ]
  },
  {
   "cell_type": "code",
   "execution_count": null,
   "id": "930c29fa-c0bb-49f3-acc7-0fb44646bb11",
   "metadata": {},
   "outputs": [],
   "source": []
  }
 ],
 "metadata": {
  "kernelspec": {
   "display_name": "Python 3 (ipykernel)",
   "language": "python",
   "name": "python3"
  },
  "language_info": {
   "codemirror_mode": {
    "name": "ipython",
    "version": 3
   },
   "file_extension": ".py",
   "mimetype": "text/x-python",
   "name": "python",
   "nbconvert_exporter": "python",
   "pygments_lexer": "ipython3",
   "version": "3.11.9"
  }
 },
 "nbformat": 4,
 "nbformat_minor": 5
}
